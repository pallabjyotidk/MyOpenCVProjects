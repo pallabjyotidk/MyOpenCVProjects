{
 "cells": [
  {
   "cell_type": "code",
   "execution_count": 1,
   "id": "81250ff9",
   "metadata": {},
   "outputs": [],
   "source": [
    "import cv2\n",
    "import numpy as np"
   ]
  },
  {
   "cell_type": "markdown",
   "id": "5c2a0e56",
   "metadata": {},
   "source": [
    "The code below stacks images irrespective of their shapes. The full code of this project can be found [here](https://github.com/murtazahassan/OpenCV-Python-Tutorials-and-Projects/blob/master/Intermediate/RealTime_Shape_Detection_Contours.py)."
   ]
  },
  {
   "cell_type": "code",
   "execution_count": 18,
   "id": "2166fc27",
   "metadata": {},
   "outputs": [],
   "source": [
    "def empty(a):\n",
    "    pass\n",
    "\n",
    "cv2.namedWindow(\"Parameters\")\n",
    "cv2.resizeWindow(\"Parameters\", 640, 240)\n",
    "cv2.createTrackbar(\"Threshold1\", \"Parameters\", 23, 255, empty)\n",
    "cv2.createTrackbar(\"Threshold2\", \"Parameters\", 20, 255, empty)\n",
    "cv2.createTrackbar(\"Area\", \"Parameters\", 5000, 30000, empty)"
   ]
  },
  {
   "cell_type": "code",
   "execution_count": 3,
   "id": "8b27fb27",
   "metadata": {},
   "outputs": [],
   "source": [
    "def stackImages(scale,imgArray):\n",
    "    rows = len(imgArray)\n",
    "    cols = len(imgArray[0])\n",
    "    rowsAvailable = isinstance(imgArray[0], list)\n",
    "    width = imgArray[0][0].shape[1]\n",
    "    height = imgArray[0][0].shape[0]\n",
    "    if rowsAvailable:\n",
    "        for x in range ( 0, rows):\n",
    "            for y in range(0, cols):\n",
    "                if imgArray[x][y].shape[:2] == imgArray[0][0].shape [:2]:\n",
    "                    imgArray[x][y] = cv2.resize(imgArray[x][y], (0, 0), None, scale, scale)\n",
    "                else:\n",
    "                    imgArray[x][y] = cv2.resize(imgArray[x][y], (imgArray[0][0].shape[1], imgArray[0][0].shape[0]), None, scale, scale)\n",
    "                if len(imgArray[x][y].shape) == 2: imgArray[x][y]= cv2.cvtColor( imgArray[x][y], cv2.COLOR_GRAY2BGR)\n",
    "        imageBlank = np.zeros((height, width, 3), np.uint8)\n",
    "        hor = [imageBlank]*rows\n",
    "        hor_con = [imageBlank]*rows\n",
    "        for x in range(0, rows):\n",
    "            hor[x] = np.hstack(imgArray[x])\n",
    "        ver = np.vstack(hor)\n",
    "    else:\n",
    "        for x in range(0, rows):\n",
    "            if imgArray[x].shape[:2] == imgArray[0].shape[:2]:\n",
    "                imgArray[x] = cv2.resize(imgArray[x], (0, 0), None, scale, scale)\n",
    "            else:\n",
    "                imgArray[x] = cv2.resize(imgArray[x], (imgArray[0].shape[1], imgArray[0].shape[0]), None,scale, scale)\n",
    "            if len(imgArray[x].shape) == 2: imgArray[x] = cv2.cvtColor(imgArray[x], cv2.COLOR_GRAY2BGR)\n",
    "        hor= np.hstack(imgArray)\n",
    "        ver = hor\n",
    "    return ver"
   ]
  },
  {
   "cell_type": "code",
   "execution_count": 17,
   "id": "4d3c09c6",
   "metadata": {},
   "outputs": [],
   "source": [
    "def getContours(img, imgContour):\n",
    "    contours, hierarchy = cv2.findContours(img, cv2.RETR_EXTERNAL, cv2.CHAIN_APPROX_NONE)\n",
    "    #cv2.drawContours(imgContour, contours, -1, (255,0,255), 7)\n",
    "    for cnt in contours:\n",
    "        area = cv2.contourArea(cnt)\n",
    "        areaMin = cv2.getTrackbarPos(\"Area\", \"Parameters\")\n",
    "        if area > areaMin:\n",
    "            cv2.drawContours(imgContour, contours, -1, (255,0,255), 7)\n",
    "            peri = cv2.arcLength(cnt, True)\n",
    "            approx = cv2.approxPolyDP(cnt, 0.02 * peri, True)\n",
    "            x, y, w, h = cv2.boundingRect(approx)\n",
    "            cv2.rectangle(imgContour, (x, y), (x+w, y+h), (0, 255, 0), 5)\n",
    "            \n",
    "            cv2.putText(imgContour, \"Points: \" + str(len(approx)), (x+w+20, y+20), cv2.FONT_HERSHEY_COMPLEX, 0.7,\n",
    "                       (0, 255, 0), 2)\n",
    "            cv2.putText(imgContour, \"Area: \" + str(len(approx)), (x+w+20, y+20), cv2.FONT_HERSHEY_COMPLEX, 0.7,\n",
    "                       (0, 255, 0), 2)"
   ]
  },
  {
   "cell_type": "code",
   "execution_count": 19,
   "id": "20fb62df",
   "metadata": {},
   "outputs": [],
   "source": [
    "frameWidth = 480\n",
    "frameHeight = 360\n",
    "cap = cv2.VideoCapture(0)\n",
    "cap.set(3, frameWidth)\n",
    "cap.set(4, frameHeight)\n",
    "\n",
    "while True:\n",
    "    success, img = cap.read()\n",
    "    \n",
    "    imgContour = img.copy()\n",
    "    \n",
    "    imgBlur = cv2.GaussianBlur(img, (7,7), 1)\n",
    "    imgGray = cv2.cvtColor(imgBlur, cv2.COLOR_BGR2GRAY)\n",
    "    \n",
    "    threshold1 = cv2.getTrackbarPos(\"Threshold1\", \"Parameters\")\n",
    "    threshold2 = cv2.getTrackbarPos(\"Threshold2\", \"Parameters\")\n",
    "    imgCanny = cv2.Canny(imgGray, threshold1, threshold2)\n",
    "    kernel = np.ones((5,5))\n",
    "    imgDil = cv2.dilate(imgCanny, kernel, iterations=1)\n",
    "    \n",
    "    getContours(imgDil, imgContour)\n",
    "    \n",
    "    imgStack = stackImages(0.8, ([img, imgGray, imgCanny],\n",
    "                                 [imgDil, imgContour, imgContour]))\n",
    "    \n",
    "    cv2.imshow(\"Result\", imgStack)\n",
    "    \n",
    "    if cv2.waitKey(1) & 0xFF == ord('q'):\n",
    "        break\n",
    "\n",
    "cap.release()\n",
    "cv2.destroyAllWindows()"
   ]
  },
  {
   "cell_type": "code",
   "execution_count": null,
   "id": "11af4883",
   "metadata": {},
   "outputs": [],
   "source": []
  }
 ],
 "metadata": {
  "kernelspec": {
   "display_name": "Python 3",
   "language": "python",
   "name": "python3"
  },
  "language_info": {
   "codemirror_mode": {
    "name": "ipython",
    "version": 3
   },
   "file_extension": ".py",
   "mimetype": "text/x-python",
   "name": "python",
   "nbconvert_exporter": "python",
   "pygments_lexer": "ipython3",
   "version": "3.8.8"
  }
 },
 "nbformat": 4,
 "nbformat_minor": 5
}
