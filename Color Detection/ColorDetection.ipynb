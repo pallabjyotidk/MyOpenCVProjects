{
 "cells": [
  {
   "cell_type": "code",
   "execution_count": 1,
   "id": "f4b40f03",
   "metadata": {},
   "outputs": [],
   "source": [
    "import cv2\n",
    "import numpy as np\n",
    "from matplotlib import pyplot as plt"
   ]
  },
  {
   "cell_type": "code",
   "execution_count": 2,
   "id": "f9d17a96",
   "metadata": {},
   "outputs": [],
   "source": [
    "frameWidth = 480\n",
    "frameHeight = 360\n",
    "cap = cv2.VideoCapture(0)\n",
    "cap.set(3, frameWidth)\n",
    "cap.set(4, frameHeight)\n",
    "\n",
    "def empty(a):\n",
    "    pass\n",
    "\n",
    "cv2.namedWindow(\"HSV\")\n",
    "cv2.resizeWindow(\"HSV\", 640, 300)\n",
    "cv2.createTrackbar(\"HUE Min\", \"HSV\", 0, 179, empty)\n",
    "cv2.createTrackbar(\"HUE Max\", \"HSV\", 179, 179, empty)\n",
    "cv2.createTrackbar(\"SAT Min\", \"HSV\", 0, 255, empty)\n",
    "cv2.createTrackbar(\"SAT Max\", \"HSV\", 255, 255, empty)\n",
    "cv2.createTrackbar(\"VALUE Min\", \"HSV\", 0, 255, empty)\n",
    "cv2.createTrackbar(\"VALUE Max\", \"HSV\", 255, 255, empty)"
   ]
  },
  {
   "cell_type": "code",
   "execution_count": 3,
   "id": "631cd22c",
   "metadata": {},
   "outputs": [],
   "source": [
    "while True:\n",
    "    _, img = cap.read()\n",
    "    img = cv2.flip(img, 1)\n",
    "    imgHSV = cv2.cvtColor(img, cv2.COLOR_BGR2HSV)\n",
    "    \n",
    "    h_min = cv2.getTrackbarPos(\"HUE Min\", \"HSV\")\n",
    "    h_max = cv2.getTrackbarPos(\"HUE Max\", \"HSV\")\n",
    "    s_min = cv2.getTrackbarPos(\"SAT Min\", \"HSV\")\n",
    "    s_max = cv2.getTrackbarPos(\"SAT Max\", \"HSV\")\n",
    "    v_min = cv2.getTrackbarPos(\"VALUE Min\", \"HSV\")\n",
    "    v_max = cv2.getTrackbarPos(\"VALUE Max\", \"HSV\")\n",
    "    \n",
    "    lower = np.array([h_min, s_min, v_min])\n",
    "    upper = np.array([h_max, s_max, v_max])\n",
    "    mask = cv2.inRange(imgHSV, lower, upper)\n",
    "    \n",
    "    result = cv2.bitwise_and(img, img, mask = mask)\n",
    "    \n",
    "    mask = cv2.cvtColor(mask, cv2.COLOR_GRAY2BGR)\n",
    "    hStack = np.hstack([img, mask, result])\n",
    "    \n",
    "#     cv2.imshow('Frame', img)\n",
    "#     cv2.imshow('HSV image', imgHSV)\n",
    "#     cv2.imshow('Mask', mask)\n",
    "#     cv2.imshow('Result', result)\n",
    "    \n",
    "    cv2.imshow('Result', hStack)\n",
    "    \n",
    "    #cv2.waitKey(0)\n",
    "    if cv2.waitKey(1) & 0xFF == ord('q'): \n",
    "        break\n",
    "\n",
    "cap.release()\n",
    "cv2.destroyAllWindows()"
   ]
  }
 ],
 "metadata": {
  "kernelspec": {
   "display_name": "Python 3",
   "language": "python",
   "name": "python3"
  },
  "language_info": {
   "codemirror_mode": {
    "name": "ipython",
    "version": 3
   },
   "file_extension": ".py",
   "mimetype": "text/x-python",
   "name": "python",
   "nbconvert_exporter": "python",
   "pygments_lexer": "ipython3",
   "version": "3.8.8"
  }
 },
 "nbformat": 4,
 "nbformat_minor": 5
}
