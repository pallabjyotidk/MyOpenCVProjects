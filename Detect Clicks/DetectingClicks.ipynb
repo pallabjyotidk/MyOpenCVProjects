{
 "cells": [
  {
   "cell_type": "code",
   "execution_count": 2,
   "id": "80b7f0fa",
   "metadata": {},
   "outputs": [],
   "source": [
    "import cv2\n",
    "import numpy as np\n",
    "import matplotlib.pyplot as plt"
   ]
  },
  {
   "cell_type": "code",
   "execution_count": 3,
   "id": "bfa0b670",
   "metadata": {},
   "outputs": [],
   "source": [
    "circles = np.zeros((4, 2), np.int32)\n",
    "counter = 0"
   ]
  },
  {
   "cell_type": "code",
   "execution_count": 4,
   "id": "5a3e94ce",
   "metadata": {},
   "outputs": [],
   "source": [
    "def mousePoints(event, x, y, flags, parmas):\n",
    "    global counter\n",
    "    if event == cv2.EVENT_LBUTTONDOWN:\n",
    "        circles[counter] = x, y\n",
    "        counter += 1\n",
    "        print(circles)"
   ]
  },
  {
   "cell_type": "code",
   "execution_count": 5,
   "id": "ac463142",
   "metadata": {},
   "outputs": [],
   "source": [
    "img = cv2.imread(\"Resources/cards.png\")"
   ]
  },
  {
   "cell_type": "code",
   "execution_count": null,
   "id": "25bed0d1",
   "metadata": {},
   "outputs": [],
   "source": [
    "while True:\n",
    "    if counter == 4:\n",
    "        pts1 = np.float32([[365, 348], [574, 338], [402, 659], [642, 643]])\n",
    "        width, height = 250, 350\n",
    "        pts2 = np.float32([[0,0], [width, 0], [0, height], [width, height]])\n",
    "        matrix = cv2.getPerspectiveTransform(pts1, pts2)\n",
    "        outputImg = cv2.warpPerspective(img, matrix, (width, height))\n",
    "        plt.imshow(cv2.cvtColor(outputImg, cv2.COLOR_BGR2RGB));\n",
    "    \n",
    "    for x in range (0, 4):\n",
    "        cv2.circle(img, (int(circles[x][0]), int(circles[x][1])), 3, (0, 0, 255), cv2.FILLED)\n",
    "    \n",
    "    #plt.figure(figsize = (10, 10))\n",
    "    plt.imshow(cv2.cvtColor(img, cv2.COLOR_BGR2RGB));\n",
    "    cv2.setMouseCallback(\"Original Image \", mousePoints)"
   ]
  }
 ],
 "metadata": {
  "kernelspec": {
   "display_name": "Python 3",
   "language": "python",
   "name": "python3"
  },
  "language_info": {
   "codemirror_mode": {
    "name": "ipython",
    "version": 3
   },
   "file_extension": ".py",
   "mimetype": "text/x-python",
   "name": "python",
   "nbconvert_exporter": "python",
   "pygments_lexer": "ipython3",
   "version": "3.8.8"
  }
 },
 "nbformat": 4,
 "nbformat_minor": 5
}
